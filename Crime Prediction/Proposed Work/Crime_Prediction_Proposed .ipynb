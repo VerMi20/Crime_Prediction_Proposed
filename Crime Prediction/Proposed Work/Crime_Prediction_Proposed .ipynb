{
 "cells": [
  {
   "cell_type": "markdown",
   "metadata": {},
   "source": [
    "# Loading Data"
   ]
  },
  {
   "cell_type": "code",
   "execution_count": 15,
   "metadata": {
    "collapsed": true
   },
   "outputs": [],
   "source": [
    "import pandas as pd\n",
    "import numpy as np\n",
    "import matplotlib.pyplot as plt\n",
    "import seaborn as sns\n",
    "%matplotlib inline"
   ]
  },
  {
   "cell_type": "code",
   "execution_count": 16,
   "metadata": {
    "collapsed": true
   },
   "outputs": [],
   "source": [
    "dataset=pd.read_csv('data.csv')\n",
    "\n",
    "data=pd.read_csv('data.csv')"
   ]
  },
  {
   "cell_type": "code",
   "execution_count": 17,
   "metadata": {
    "collapsed": false
   },
   "outputs": [
    {
     "data": {
      "text/html": [
       "<div>\n",
       "<table border=\"1\" class=\"dataframe\">\n",
       "  <thead>\n",
       "    <tr style=\"text-align: right;\">\n",
       "      <th></th>\n",
       "      <th>timestamp</th>\n",
       "      <th>act379</th>\n",
       "      <th>act13</th>\n",
       "      <th>act279</th>\n",
       "      <th>act323</th>\n",
       "      <th>act363</th>\n",
       "      <th>act302</th>\n",
       "      <th>latitude</th>\n",
       "      <th>longitude</th>\n",
       "    </tr>\n",
       "  </thead>\n",
       "  <tbody>\n",
       "    <tr>\n",
       "      <th>0</th>\n",
       "      <td>28-02-2018 21:00</td>\n",
       "      <td>1</td>\n",
       "      <td>0</td>\n",
       "      <td>0</td>\n",
       "      <td>0</td>\n",
       "      <td>0</td>\n",
       "      <td>0</td>\n",
       "      <td>22.737260</td>\n",
       "      <td>75.875987</td>\n",
       "    </tr>\n",
       "    <tr>\n",
       "      <th>1</th>\n",
       "      <td>28-02-2018 21:15</td>\n",
       "      <td>1</td>\n",
       "      <td>0</td>\n",
       "      <td>0</td>\n",
       "      <td>0</td>\n",
       "      <td>0</td>\n",
       "      <td>0</td>\n",
       "      <td>22.720992</td>\n",
       "      <td>75.876083</td>\n",
       "    </tr>\n",
       "    <tr>\n",
       "      <th>2</th>\n",
       "      <td>28-02-2018 10:15</td>\n",
       "      <td>0</td>\n",
       "      <td>0</td>\n",
       "      <td>1</td>\n",
       "      <td>0</td>\n",
       "      <td>0</td>\n",
       "      <td>0</td>\n",
       "      <td>22.736676</td>\n",
       "      <td>75.883168</td>\n",
       "    </tr>\n",
       "    <tr>\n",
       "      <th>3</th>\n",
       "      <td>28-02-2018 10:15</td>\n",
       "      <td>0</td>\n",
       "      <td>0</td>\n",
       "      <td>1</td>\n",
       "      <td>0</td>\n",
       "      <td>0</td>\n",
       "      <td>0</td>\n",
       "      <td>22.746527</td>\n",
       "      <td>75.887139</td>\n",
       "    </tr>\n",
       "    <tr>\n",
       "      <th>4</th>\n",
       "      <td>28-02-2018 10:30</td>\n",
       "      <td>0</td>\n",
       "      <td>0</td>\n",
       "      <td>1</td>\n",
       "      <td>0</td>\n",
       "      <td>0</td>\n",
       "      <td>0</td>\n",
       "      <td>22.769531</td>\n",
       "      <td>75.888772</td>\n",
       "    </tr>\n",
       "  </tbody>\n",
       "</table>\n",
       "</div>"
      ],
      "text/plain": [
       "          timestamp  act379  act13  act279  act323  act363  act302   latitude  \\\n",
       "0  28-02-2018 21:00       1      0       0       0       0       0  22.737260   \n",
       "1  28-02-2018 21:15       1      0       0       0       0       0  22.720992   \n",
       "2  28-02-2018 10:15       0      0       1       0       0       0  22.736676   \n",
       "3  28-02-2018 10:15       0      0       1       0       0       0  22.746527   \n",
       "4  28-02-2018 10:30       0      0       1       0       0       0  22.769531   \n",
       "\n",
       "   longitude  \n",
       "0  75.875987  \n",
       "1  75.876083  \n",
       "2  75.883168  \n",
       "3  75.887139  \n",
       "4  75.888772  "
      ]
     },
     "execution_count": 17,
     "metadata": {},
     "output_type": "execute_result"
    }
   ],
   "source": [
    "dataset.head()"
   ]
  },
  {
   "cell_type": "markdown",
   "metadata": {},
   "source": [
    "# Analysing Data"
   ]
  },
  {
   "cell_type": "code",
   "execution_count": 18,
   "metadata": {
    "collapsed": false
   },
   "outputs": [
    {
     "name": "stdout",
     "output_type": "stream",
     "text": [
      "<class 'str'>\n",
      "<class 'numpy.int64'>\n",
      "<class 'numpy.int64'>\n",
      "<class 'numpy.int64'>\n",
      "<class 'numpy.int64'>\n",
      "<class 'numpy.int64'>\n",
      "<class 'numpy.int64'>\n",
      "<class 'numpy.float64'>\n",
      "<class 'numpy.float64'>\n"
     ]
    }
   ],
   "source": [
    "for col in data:\n",
    "    print (type(data[col][1]))"
   ]
  },
  {
   "cell_type": "code",
   "execution_count": 19,
   "metadata": {
    "collapsed": false
   },
   "outputs": [
    {
     "data": {
      "text/plain": [
       "0   2018-02-28 21:00:00\n",
       "1   2018-02-28 21:15:00\n",
       "2   2018-02-28 10:15:00\n",
       "3   2018-02-28 10:15:00\n",
       "4   2018-02-28 10:30:00\n",
       "Name: timestamp, dtype: datetime64[ns]"
      ]
     },
     "execution_count": 19,
     "metadata": {},
     "output_type": "execute_result"
    }
   ],
   "source": [
    "data['timestamp'] = pd.to_datetime(data['timestamp'],errors='coerce')\n",
    "\n",
    "data['timestamp'] = pd.to_datetime(data['timestamp'], format = '%y-%m-%d %H:%M:%S')\n",
    "\n",
    "data['timestamp'].head()"
   ]
  },
  {
   "cell_type": "code",
   "execution_count": 20,
   "metadata": {
    "collapsed": true
   },
   "outputs": [],
   "source": [
    "column_1 = data.iloc[:,0]\n",
    "\n",
    "db=pd.DataFrame({#\"year\": column_1.dt.year,\n",
    "              \n",
    "                 #\"month\": column_1.dt.month,\n",
    "                 \"day\": column_1.dt.day,\n",
    "                 \"hour\": column_1.dt.hour,\n",
    "                 #\"dayofyear\": column_1.dt.dayofyear,\n",
    "                 \"week\": column_1.dt.week,\n",
    "                 #\"weekofyear\": column_1.dt.weekofyear,\n",
    "                 #\"dayofweek\": column_1.dt.dayofweek,\n",
    "                 #\"weekday\": column_1.dt.weekday,\n",
    "                 #\"quarter\": column_1.dt.quarter,\n",
    "               })"
   ]
  },
  {
   "cell_type": "code",
   "execution_count": 66,
   "metadata": {
    "collapsed": false
   },
   "outputs": [
    {
     "name": "stdout",
     "output_type": "stream",
     "text": [
      "<class 'pandas.core.frame.DataFrame'>\n",
      "RangeIndex: 2090 entries, 0 to 2089\n",
      "Data columns (total 11 columns):\n",
      "day          2068 non-null float64\n",
      "hour         2068 non-null float64\n",
      "week         2068 non-null float64\n",
      "act379       2090 non-null int64\n",
      "act13        2090 non-null int64\n",
      "act279       2090 non-null int64\n",
      "act323       2090 non-null int64\n",
      "act363       2090 non-null int64\n",
      "act302       2090 non-null int64\n",
      "latitude     2090 non-null float64\n",
      "longitude    2090 non-null float64\n",
      "dtypes: float64(5), int64(6)\n",
      "memory usage: 179.7 KB\n"
     ]
    }
   ],
   "source": [
    "dataset1=dataset.drop('timestamp',axis=1)\n",
    "\n",
    "data1=pd.concat([db,dataset1],axis=1)\n",
    "\n",
    "data1.info()"
   ]
  },
  {
   "cell_type": "code",
   "execution_count": 67,
   "metadata": {
    "collapsed": false
   },
   "outputs": [
    {
     "data": {
      "text/html": [
       "<div>\n",
       "<table border=\"1\" class=\"dataframe\">\n",
       "  <thead>\n",
       "    <tr style=\"text-align: right;\">\n",
       "      <th></th>\n",
       "      <th>day</th>\n",
       "      <th>hour</th>\n",
       "      <th>week</th>\n",
       "      <th>act379</th>\n",
       "      <th>act13</th>\n",
       "      <th>act279</th>\n",
       "      <th>act323</th>\n",
       "      <th>act363</th>\n",
       "      <th>act302</th>\n",
       "      <th>latitude</th>\n",
       "      <th>longitude</th>\n",
       "    </tr>\n",
       "  </thead>\n",
       "  <tbody>\n",
       "    <tr>\n",
       "      <th>0</th>\n",
       "      <td>28.0</td>\n",
       "      <td>21.0</td>\n",
       "      <td>9.0</td>\n",
       "      <td>1</td>\n",
       "      <td>0</td>\n",
       "      <td>0</td>\n",
       "      <td>0</td>\n",
       "      <td>0</td>\n",
       "      <td>0</td>\n",
       "      <td>22.737260</td>\n",
       "      <td>75.875987</td>\n",
       "    </tr>\n",
       "    <tr>\n",
       "      <th>1</th>\n",
       "      <td>28.0</td>\n",
       "      <td>21.0</td>\n",
       "      <td>9.0</td>\n",
       "      <td>1</td>\n",
       "      <td>0</td>\n",
       "      <td>0</td>\n",
       "      <td>0</td>\n",
       "      <td>0</td>\n",
       "      <td>0</td>\n",
       "      <td>22.720992</td>\n",
       "      <td>75.876083</td>\n",
       "    </tr>\n",
       "    <tr>\n",
       "      <th>2</th>\n",
       "      <td>28.0</td>\n",
       "      <td>10.0</td>\n",
       "      <td>9.0</td>\n",
       "      <td>0</td>\n",
       "      <td>0</td>\n",
       "      <td>1</td>\n",
       "      <td>0</td>\n",
       "      <td>0</td>\n",
       "      <td>0</td>\n",
       "      <td>22.736676</td>\n",
       "      <td>75.883168</td>\n",
       "    </tr>\n",
       "    <tr>\n",
       "      <th>3</th>\n",
       "      <td>28.0</td>\n",
       "      <td>10.0</td>\n",
       "      <td>9.0</td>\n",
       "      <td>0</td>\n",
       "      <td>0</td>\n",
       "      <td>1</td>\n",
       "      <td>0</td>\n",
       "      <td>0</td>\n",
       "      <td>0</td>\n",
       "      <td>22.746527</td>\n",
       "      <td>75.887139</td>\n",
       "    </tr>\n",
       "    <tr>\n",
       "      <th>4</th>\n",
       "      <td>28.0</td>\n",
       "      <td>10.0</td>\n",
       "      <td>9.0</td>\n",
       "      <td>0</td>\n",
       "      <td>0</td>\n",
       "      <td>1</td>\n",
       "      <td>0</td>\n",
       "      <td>0</td>\n",
       "      <td>0</td>\n",
       "      <td>22.769531</td>\n",
       "      <td>75.888772</td>\n",
       "    </tr>\n",
       "  </tbody>\n",
       "</table>\n",
       "</div>"
      ],
      "text/plain": [
       "    day  hour  week  act379  act13  act279  act323  act363  act302   latitude  \\\n",
       "0  28.0  21.0   9.0       1      0       0       0       0       0  22.737260   \n",
       "1  28.0  21.0   9.0       1      0       0       0       0       0  22.720992   \n",
       "2  28.0  10.0   9.0       0      0       1       0       0       0  22.736676   \n",
       "3  28.0  10.0   9.0       0      0       1       0       0       0  22.746527   \n",
       "4  28.0  10.0   9.0       0      0       1       0       0       0  22.769531   \n",
       "\n",
       "   longitude  \n",
       "0  75.875987  \n",
       "1  75.876083  \n",
       "2  75.883168  \n",
       "3  75.887139  \n",
       "4  75.888772  "
      ]
     },
     "execution_count": 67,
     "metadata": {},
     "output_type": "execute_result"
    }
   ],
   "source": [
    "data1.head()"
   ]
  },
  {
   "cell_type": "code",
   "execution_count": 70,
   "metadata": {
    "collapsed": false
   },
   "outputs": [
    {
     "name": "stdout",
     "output_type": "stream",
     "text": [
      "    day  hour  week  act379  act13  act279  act323  act363  act302   latitude  \\\n",
      "0  28.0  21.0   9.0       1      0       0       0       0       0  22.737260   \n",
      "1  28.0  21.0   9.0       1      0       0       0       0       0  22.720992   \n",
      "2  28.0  10.0   9.0       0      0       1       0       0       0  22.736676   \n",
      "\n",
      "   longitude  \n",
      "0  75.875987  \n",
      "1  75.876083  \n",
      "2  75.883168  \n"
     ]
    }
   ],
   "source": [
    "data1.dropna(inplace=True)\n",
    "\n",
    "print(data1.head(3))"
   ]
  },
  {
   "cell_type": "markdown",
   "metadata": {},
   "source": [
    "# Heatmap "
   ]
  },
  {
   "cell_type": "code",
   "execution_count": 73,
   "metadata": {
    "collapsed": false
   },
   "outputs": [
    {
     "data": {
      "text/html": [
       "<div>\n",
       "<table border=\"1\" class=\"dataframe\">\n",
       "  <thead>\n",
       "    <tr style=\"text-align: right;\">\n",
       "      <th></th>\n",
       "      <th>day</th>\n",
       "      <th>act</th>\n",
       "      <th>frequency</th>\n",
       "    </tr>\n",
       "  </thead>\n",
       "  <tbody>\n",
       "    <tr>\n",
       "      <th>0</th>\n",
       "      <td>1</td>\n",
       "      <td>act379</td>\n",
       "      <td>121</td>\n",
       "    </tr>\n",
       "    <tr>\n",
       "      <th>1</th>\n",
       "      <td>1</td>\n",
       "      <td>act13</td>\n",
       "      <td>22</td>\n",
       "    </tr>\n",
       "    <tr>\n",
       "      <th>2</th>\n",
       "      <td>1</td>\n",
       "      <td>act279</td>\n",
       "      <td>88</td>\n",
       "    </tr>\n",
       "    <tr>\n",
       "      <th>3</th>\n",
       "      <td>1</td>\n",
       "      <td>act323</td>\n",
       "      <td>66</td>\n",
       "    </tr>\n",
       "    <tr>\n",
       "      <th>4</th>\n",
       "      <td>1</td>\n",
       "      <td>act363</td>\n",
       "      <td>33</td>\n",
       "    </tr>\n",
       "    <tr>\n",
       "      <th>5</th>\n",
       "      <td>1</td>\n",
       "      <td>act302</td>\n",
       "      <td>0</td>\n",
       "    </tr>\n",
       "    <tr>\n",
       "      <th>6</th>\n",
       "      <td>3</td>\n",
       "      <td>act379</td>\n",
       "      <td>66</td>\n",
       "    </tr>\n",
       "    <tr>\n",
       "      <th>7</th>\n",
       "      <td>3</td>\n",
       "      <td>act13</td>\n",
       "      <td>0</td>\n",
       "    </tr>\n",
       "    <tr>\n",
       "      <th>8</th>\n",
       "      <td>3</td>\n",
       "      <td>act279</td>\n",
       "      <td>121</td>\n",
       "    </tr>\n",
       "    <tr>\n",
       "      <th>9</th>\n",
       "      <td>3</td>\n",
       "      <td>act323</td>\n",
       "      <td>66</td>\n",
       "    </tr>\n",
       "  </tbody>\n",
       "</table>\n",
       "</div>"
      ],
      "text/plain": [
       "   day     act  frequency\n",
       "0    1  act379        121\n",
       "1    1   act13         22\n",
       "2    1  act279         88\n",
       "3    1  act323         66\n",
       "4    1  act363         33\n",
       "5    1  act302          0\n",
       "6    3  act379         66\n",
       "7    3   act13          0\n",
       "8    3  act279        121\n",
       "9    3  act323         66"
      ]
     },
     "execution_count": 73,
     "metadata": {},
     "output_type": "execute_result"
    }
   ],
   "source": [
    "df=pd.read_csv('data-edit.csv')\n",
    "\n",
    "df = df.rename(columns = {'type':'act'})\n",
    "df.head(10)"
   ]
  },
  {
   "cell_type": "code",
   "execution_count": 74,
   "metadata": {
    "collapsed": false
   },
   "outputs": [
    {
     "data": {
      "text/plain": [
       "<matplotlib.axes._subplots.AxesSubplot at 0x218d39a13c8>"
      ]
     },
     "execution_count": 74,
     "metadata": {},
     "output_type": "execute_result"
    },
    {
     "data": {
      "image/png": "[encoded data removed]",
      "text/plain": [
       "<matplotlib.figure.Figure at 0x218d39ae128>"
      ]
     },
     "metadata": {},
     "output_type": "display_data"
    }
   ],
   "source": [
    "heatmap1_data = pd.pivot_table(df, values='frequency', \n",
    "                     index=['day'], \n",
    "                     columns=\"act\")\n",
    "sns.heatmap(heatmap1_data,cmap=\"YlOrRd\")"
   ]
  },
  {
   "cell_type": "markdown",
   "metadata": {},
   "source": [
    "# Analyzing Most Important Features"
   ]
  },
  {
   "cell_type": "code",
   "execution_count": 77,
   "metadata": {
    "collapsed": false
   },
   "outputs": [
    {
     "data": {
      "text/plain": [
       "array([[ 28.      ,  21.      ,   9.      ,  22.73726 ,  75.875987],\n",
       "       [ 28.      ,  21.      ,   9.      ,  22.720992,  75.876083],\n",
       "       [ 28.      ,  10.      ,   9.      ,  22.736676,  75.883168],\n",
       "       ..., \n",
       "       [  3.      ,  12.      ,  27.      ,  22.531931,  75.769126],\n",
       "       [  3.      ,  10.      ,  27.      ,  22.719569,  75.857726],\n",
       "       [  3.      ,  23.      ,  27.      ,  22.686437,  76.032055]])"
      ]
     },
     "execution_count": 77,
     "metadata": {},
     "output_type": "execute_result"
    }
   ],
   "source": [
    "X=data1.iloc[:,[0,1,2,9,10]].values\n",
    "\n",
    "X"
   ]
  },
  {
   "cell_type": "code",
   "execution_count": 78,
   "metadata": {
    "collapsed": false
   },
   "outputs": [
    {
     "data": {
      "text/plain": [
       "array([[1, 0, 0, 0, 0, 0],\n",
       "       [1, 0, 0, 0, 0, 0],\n",
       "       [0, 0, 1, 0, 0, 0],\n",
       "       ..., \n",
       "       [0, 0, 1, 0, 0, 0],\n",
       "       [0, 0, 1, 0, 0, 0],\n",
       "       [0, 0, 1, 0, 0, 0]], dtype=int64)"
      ]
     },
     "execution_count": 78,
     "metadata": {},
     "output_type": "execute_result"
    }
   ],
   "source": [
    "y=data1.iloc[:,[3,4,5,6,7,8]].values\n",
    "\n",
    "y"
   ]
  },
  {
   "cell_type": "markdown",
   "metadata": {},
   "source": [
    "# Creating And Training KNN Model"
   ]
  },
  {
   "cell_type": "code",
   "execution_count": 126,
   "metadata": {
    "collapsed": false
   },
   "outputs": [
    {
     "name": "stdout",
     "output_type": "stream",
     "text": [
      "[[  3.         9.        14.        22.724     75.8621  ]\n",
      " [ 28.         1.         9.        22.722247  75.915294]\n",
      " [  3.        14.         9.        22.7278    75.8046  ]\n",
      " ..., \n",
      " [  1.        16.         9.        22.66215   75.9035  ]\n",
      " [ 28.        21.         9.        22.73726   75.875987]\n",
      " [ 28.        11.         9.        22.715121  75.856601]]\n"
     ]
    }
   ],
   "source": [
    "from sklearn.model_selection import train_test_split\n",
    "\n",
    "X_train, X_test, y_train, y_test = train_test_split(X, y, test_size=0.30, random_state=50)\n",
    "\n",
    "print(X_train)"
   ]
  },
  {
   "cell_type": "code",
   "execution_count": 127,
   "metadata": {
    "collapsed": false
   },
   "outputs": [
    {
     "name": "stdout",
     "output_type": "stream",
     "text": [
      "importance of the features:\n",
      "[ 0.04674434  0.28656643  0.11674634  0.28565737  0.26428553]\n"
     ]
    }
   ],
   "source": [
    "from sklearn.ensemble import ExtraTreesClassifier\n",
    "model = ExtraTreesClassifier(n_estimators=10)\n",
    "model.fit(X_train, y_train)\n",
    "print(\"importance of the features:\")\n",
    "print(model.feature_importances_)"
   ]
  },
  {
   "cell_type": "markdown",
   "metadata": {},
   "source": [
    "# Elbow Method For optimum value of K"
   ]
  },
  {
   "cell_type": "code",
   "execution_count": 128,
   "metadata": {
    "collapsed": false
   },
   "outputs": [],
   "source": [
    "error_rate = []\n",
    "for i in range(1,140):\n",
    "    \n",
    "    knn = KNeighborsClassifier(n_neighbors=i)\n",
    "    knn.fit(X_train,y_train)\n",
    "    pred_i = knn.predict(X_test)\n",
    "    error_rate.append(np.mean(pred_i!=y_test))"
   ]
  },
  {
   "cell_type": "code",
   "execution_count": 129,
   "metadata": {
    "collapsed": false
   },
   "outputs": [
    {
     "data": {
      "text/plain": [
       "<matplotlib.text.Text at 0x218d534d6a0>"
      ]
     },
     "execution_count": 129,
     "metadata": {},
     "output_type": "execute_result"
    },
    {
     "data": {
      "image/png": "[encoded data removed]",
      "text/plain": [
       "<matplotlib.figure.Figure at 0x218d5335b38>"
      ]
     },
     "metadata": {},
     "output_type": "display_data"
    }
   ],
   "source": [
    "plt.figure(figsize=(10,6))\n",
    "plt.plot(range(1,140),error_rate,color='blue', linestyle='dashed', marker='o',\n",
    "         markerfacecolor='red', markersize=5)\n",
    "plt.title('Error Rate vs. K Value')\n",
    "plt.xlabel('K')\n",
    "plt.ylabel('Error Rate')"
   ]
  },
  {
   "cell_type": "code",
   "execution_count": 130,
   "metadata": {
    "collapsed": false
   },
   "outputs": [
    {
     "name": "stdout",
     "output_type": "stream",
     "text": [
      "0.00402576489533\n",
      "0.00375738056897\n",
      "0.00322061191626\n",
      "0.00214707461084\n",
      "0.00509930220075\n",
      "0.00805152979066\n",
      "0.0110037573806\n",
      "0.0155662909286\n",
      "0.027911969941\n",
      "0.0397208803006\n",
      "0.0485775630703\n",
      "0.0585077831455\n",
      "0.0775630703167\n",
      "0.0955448201825\n"
     ]
    }
   ],
   "source": [
    "for i in range(1,15):\n",
    "    print(error_rate[i])"
   ]
  },
  {
   "cell_type": "markdown",
   "metadata": {},
   "source": [
    "# KNN Model & Calculating KNN Score"
   ]
  },
  {
   "cell_type": "code",
   "execution_count": 131,
   "metadata": {
    "collapsed": false
   },
   "outputs": [
    {
     "data": {
      "text/plain": [
       "KNeighborsClassifier(algorithm='auto', leaf_size=30, metric='minkowski',\n",
       "           metric_params=None, n_jobs=1, n_neighbors=3, p=2,\n",
       "           weights='uniform')"
      ]
     },
     "execution_count": 131,
     "metadata": {},
     "output_type": "execute_result"
    }
   ],
   "source": [
    "from sklearn.neighbors import KNeighborsClassifier\n",
    "knn = KNeighborsClassifier(n_neighbors=3)\n",
    "knn.fit(X_train,y_train)"
   ]
  },
  {
   "cell_type": "code",
   "execution_count": 132,
   "metadata": {
    "collapsed": false
   },
   "outputs": [
    {
     "data": {
      "text/plain": [
       "0.98872785829307563"
      ]
     },
     "execution_count": 132,
     "metadata": {},
     "output_type": "execute_result"
    }
   ],
   "source": [
    "knn.score(X_test,y_test)"
   ]
  },
  {
   "cell_type": "code",
   "execution_count": 133,
   "metadata": {
    "collapsed": false
   },
   "outputs": [
    {
     "data": {
      "text/plain": [
       "0.98963372494816859"
      ]
     },
     "execution_count": 133,
     "metadata": {},
     "output_type": "execute_result"
    }
   ],
   "source": [
    "knn.score(X_train,y_train)"
   ]
  },
  {
   "cell_type": "markdown",
   "metadata": {},
   "source": [
    "# Calculating Errors"
   ]
  },
  {
   "cell_type": "code",
   "execution_count": 134,
   "metadata": {
    "collapsed": false
   },
   "outputs": [
    {
     "name": "stdout",
     "output_type": "stream",
     "text": [
      "[[0 0 0 1 0 0]\n",
      " [1 0 0 0 0 0]\n",
      " [0 0 0 0 1 0]\n",
      " ..., \n",
      " [1 0 0 0 0 0]\n",
      " [1 0 0 0 0 0]\n",
      " [0 0 1 0 0 0]]\n",
      "[[0 0 0 1 0 0]\n",
      " [1 0 0 0 0 0]\n",
      " [0 0 0 0 0 1]\n",
      " ..., \n",
      " [0 1 0 0 0 0]\n",
      " [0 0 1 0 0 0]\n",
      " [1 0 0 0 0 0]]\n"
     ]
    }
   ],
   "source": [
    "train_pred=knn.predict(X_train)\n",
    "\n",
    "print(train_pred)\n",
    "\n",
    "test_pred=knn.predict(X_test)\n",
    "\n",
    "print(test_pred)"
   ]
  },
  {
   "cell_type": "code",
   "execution_count": 135,
   "metadata": {
    "collapsed": false
   },
   "outputs": [
    {
     "name": "stdout",
     "output_type": "stream",
     "text": [
      "Mae:  0.00375738056897\n",
      "rmse: 0.0612974760408\n"
     ]
    }
   ],
   "source": [
    "from sklearn import metrics\n",
    "\n",
    "from sklearn.metrics import mean_squared_error\n",
    "\n",
    "from sklearn.metrics import mean_absolute_error\n",
    "\n",
    "train_rmse=mean_squared_error(train_pred,y_train)**0.5\n",
    "\n",
    "test_rmse=mean_squared_error(test_pred,y_test)**0.5\n",
    "\n",
    "predicted_data=np.round_(test_pred)\n",
    "\n",
    "print(\"Mae: \",metrics.mean_absolute_error(y_test,test_pred))\n",
    "\n",
    "print(\"rmse:\",np.sqrt(metrics.mean_squared_error(y_test,test_pred)))"
   ]
  },
  {
   "cell_type": "markdown",
   "metadata": {},
   "source": [
    "# Ploting Graphs"
   ]
  },
  {
   "cell_type": "code",
   "execution_count": 136,
   "metadata": {
    "collapsed": true
   },
   "outputs": [],
   "source": [
    "error_rate = []\n",
    "for i in range(1,100):\n",
    "    \n",
    "    knn = KNeighborsClassifier(n_neighbors=i)\n",
    "    knn.fit(X_train,y_train)\n",
    "    pred_i = knn.predict(X_test)\n",
    "    error_rate.append(np.mean(pred_i != y_test))\n",
    "    predicted_data=np.round_(test_pred)"
   ]
  },
  {
   "cell_type": "code",
   "execution_count": 137,
   "metadata": {
    "collapsed": true
   },
   "outputs": [],
   "source": [
    "mae=[]\n",
    "rmse=[]\n",
    "for i in range(1,100):\n",
    "    knn = KNeighborsClassifier(n_neighbors=i)\n",
    "    knn.fit(X_train,y_train)\n",
    "    train_pred=knn.predict(X_train)\n",
    "    test_pred=knn.predict(X_test)\n",
    "    train_rmse=mean_squared_error(train_pred,y_train)**0.5\n",
    "    test_rmse=mean_squared_error(test_pred,y_test)**0.5\n",
    "    mae.append(metrics.mean_absolute_error(y_test,test_pred))\n",
    "    rmse.append(np.sqrt(metrics.mean_squared_error(y_test,test_pred)))"
   ]
  },
  {
   "cell_type": "markdown",
   "metadata": {},
   "source": [
    "# RMSE vs K Value"
   ]
  },
  {
   "cell_type": "code",
   "execution_count": 138,
   "metadata": {
    "collapsed": false
   },
   "outputs": [
    {
     "data": {
      "text/plain": [
       "<matplotlib.text.Text at 0x218d523e710>"
      ]
     },
     "execution_count": 138,
     "metadata": {},
     "output_type": "execute_result"
    },
    {
     "data": {
      "image/png": "[encoded data removed]",
      "text/plain": [
       "<matplotlib.figure.Figure at 0x218d510f048>"
      ]
     },
     "metadata": {},
     "output_type": "display_data"
    }
   ],
   "source": [
    "plt.figure(figsize=(10,6))\n",
    "plt.plot(range(1,100),rmse,color='blue')\n",
    "plt.title('Rmse vs. K Value')\n",
    "plt.xlabel('K')\n",
    "plt.ylabel('Root mean absolute error')"
   ]
  },
  {
   "cell_type": "markdown",
   "metadata": {},
   "source": [
    "# MAE vs K Value"
   ]
  },
  {
   "cell_type": "code",
   "execution_count": 139,
   "metadata": {
    "collapsed": false
   },
   "outputs": [
    {
     "data": {
      "text/plain": [
       "<matplotlib.text.Text at 0x218d524f358>"
      ]
     },
     "execution_count": 139,
     "metadata": {},
     "output_type": "execute_result"
    },
    {
     "data": {
      "image/png": "[encoded data removed]",
      "text/plain": [
       "<matplotlib.figure.Figure at 0x218d52c4e48>"
      ]
     },
     "metadata": {},
     "output_type": "display_data"
    }
   ],
   "source": [
    "plt.figure(figsize=(10,6))\n",
    "plt.plot(range(1,100),mae,color='blue')\n",
    "plt.title('Mae vs. K Value')\n",
    "plt.xlabel('K')\n",
    "plt.ylabel('Mean absolute error')"
   ]
  },
  {
   "cell_type": "markdown",
   "metadata": {},
   "source": [
    "# Previous vs Proposed Graphs"
   ]
  },
  {
   "cell_type": "code",
   "execution_count": 140,
   "metadata": {
    "collapsed": true
   },
   "outputs": [],
   "source": [
    "mae_org=[0.0056360708534621577,\n",
    " 0.0056360708534621577,\n",
    " 0.0056360708534621577,\n",
    " 0.0060386473429951681,\n",
    " 0.0056360708534621577,\n",
    " 0.0060386473429951681,\n",
    " 0.0056360708534621577,\n",
    " 0.0060386473429951681,\n",
    " 0.0056360708534621577,\n",
    " 0.01328502415458937,\n",
    " 0.020933977455716585,\n",
    " 0.035024154589371984,\n",
    " 0.049114331723027378,\n",
    " 0.055152979066022546,\n",
    " 0.063204508856682773,\n",
    " 0.078904991948470213,\n",
    " 0.083735909822866342,\n",
    " 0.097826086956521743,\n",
    " 0.10829307568438003,\n",
    " 0.10628019323671499,\n",
    " 0.10628019323671499,\n",
    " 0.10144927536231885,\n",
    " 0.097826086956521729,\n",
    " 0.097826086956521729,\n",
    " 0.099838969404186795,\n",
    " 0.099838969404186795,\n",
    " 0.099838969404186795,\n",
    " 0.1030595813204509,\n",
    " 0.10386473429951693,\n",
    " 0.10708534621578099,\n",
    " 0.10789049919484701,\n",
    " 0.10789049919484701,\n",
    " 0.11151368760064412,\n",
    " 0.11513687600644122,\n",
    " 0.11916264090177135,\n",
    " 0.12439613526570048,\n",
    " 0.12560386473429952,\n",
    " 0.12681159420289856,\n",
    " 0.12399355877616748,\n",
    " 0.12278582930756844,\n",
    " 0.12198067632850242,\n",
    " 0.12238325281803543,\n",
    " 0.12278582930756844,\n",
    " 0.12278582930756844,\n",
    " 0.12479871175523349,\n",
    " 0.1280193236714976,\n",
    " 0.12721417069243157,\n",
    " 0.12962962962962965,\n",
    " 0.12962962962962965,\n",
    " 0.13566827697262482,\n",
    " 0.13768115942028986,\n",
    " 0.14170692431561996,\n",
    " 0.14331723027375201,\n",
    " 0.14573268921095009,\n",
    " 0.14452495974235105,\n",
    " 0.14170692431561996,\n",
    " 0.14090177133655393,\n",
    " 0.1461352657004831,\n",
    " 0.14452495974235105,\n",
    " 0.14452495974235105,\n",
    " 0.14412238325281804,\n",
    " 0.15056360708534622,\n",
    " 0.15056360708534622,\n",
    " 0.15056360708534622,\n",
    " 0.15056360708534622,\n",
    " 0.15056360708534622,\n",
    " 0.15338164251207728,\n",
    " 0.15821256038647344,\n",
    " 0.15579710144927536,\n",
    " 0.15660225442834139,\n",
    " 0.15901771336553946,\n",
    " 0.1602254428341385,\n",
    " 0.15821256038647344,\n",
    " 0.15901771336553946,\n",
    " 0.15821256038647344,\n",
    " 0.1602254428341385,\n",
    " 0.16062801932367152,\n",
    " 0.16223832528180357,\n",
    " 0.16264090177133655,\n",
    " 0.15982286634460549,\n",
    " 0.1610305958132045,\n",
    " 0.1610305958132045,\n",
    " 0.16143317230273752,\n",
    " 0.16143317230273752,\n",
    " 0.16183574879227053,\n",
    " 0.16223832528180357,\n",
    " 0.16223832528180357,\n",
    " 0.16143317230273754,\n",
    " 0.16223832528180357,\n",
    " 0.16223832528180357,\n",
    " 0.16062801932367152,\n",
    " 0.15942028985507248,\n",
    " 0.15942028985507248,\n",
    " 0.15942028985507248,\n",
    " 0.15901771336553946,\n",
    " 0.15901771336553946,\n",
    " 0.15861513687600645,\n",
    " 0.15861513687600645,\n",
    " 0.15861513687600645]"
   ]
  },
  {
   "cell_type": "markdown",
   "metadata": {},
   "source": [
    "# MAE vs K Value"
   ]
  },
  {
   "cell_type": "code",
   "execution_count": 141,
   "metadata": {
    "collapsed": false
   },
   "outputs": [
    {
     "data": {
      "text/plain": [
       "<matplotlib.legend.Legend at 0x218d53d90f0>"
      ]
     },
     "execution_count": 141,
     "metadata": {},
     "output_type": "execute_result"
    },
    {
     "data": {
      "image/png": "[encoded data removed]",
      "text/plain": [
       "<matplotlib.figure.Figure at 0x218d53877b8>"
      ]
     },
     "metadata": {},
     "output_type": "display_data"
    }
   ],
   "source": [
    "plt.figure(figsize=(10,6))\n",
    "plt.plot(range(1,100),mae_org,color='red',label='Previous')\n",
    "plt.plot(range(1,100),mae,color='green',label='Proposed')\n",
    "plt.title('Mae vs. K Value')\n",
    "plt.xlabel('K')\n",
    "plt.ylabel('Mean absolute error')\n",
    "plt.legend()"
   ]
  },
  {
   "cell_type": "code",
   "execution_count": 142,
   "metadata": {
    "collapsed": true
   },
   "outputs": [],
   "source": [
    "rmse_org=[0.0750737694102418,\n",
    " 0.0750737694102418,\n",
    " 0.0750737694102418,\n",
    " 0.07770873402002614,\n",
    " 0.0750737694102418,\n",
    " 0.0750737694102418,\n",
    " 0.0750737694102418,\n",
    " 0.07770873402002614,\n",
    " 0.0802572353905128,\n",
    " 0.11526067913468743,\n",
    " 0.14468578871373852,\n",
    " 0.18606874562870296,\n",
    " 0.22161753478239798,\n",
    " 0.23484671397748477,\n",
    " 0.2514050692740359,\n",
    " 0.2809003238667948,\n",
    " 0.28937157742747704,\n",
    " 0.31277162108561213,\n",
    " 0.32907913286074525,\n",
    " 0.325388409054751,\n",
    " 0.325388409054751,\n",
    " 0.3178784341108812,\n",
    " 0.31212739461154115,\n",
    " 0.31212739461154115,\n",
    " 0.31533536578483196,\n",
    " 0.31533536578483196,\n",
    " 0.31533536578483196,\n",
    " 0.32040131839759634,\n",
    " 0.32165534009244107,\n",
    " 0.32662328411527547,\n",
    " 0.3278535079960469,\n",
    " 0.3278535079960469,\n",
    " 0.33333333333333337,\n",
    " 0.3387245186237752,\n",
    " 0.3457820374040623,\n",
    " 0.3532686113359542,\n",
    " 0.3549738599162374,\n",
    " 0.3566709557735695,\n",
    " 0.3521271911911482,\n",
    " 0.35040808967198295,\n",
    " 0.34925732108075047,\n",
    " 0.3498331785552014,\n",
    " 0.35040808967198295,\n",
    " 0.3544063553807966,\n",
    " 0.3532686113359542,\n",
    " 0.35779788103271043,\n",
    " 0.36059978663216463,\n",
    " 0.3617144717843463,\n",
    " 0.3600411499115478,\n",
    " 0.3661392781640516,\n",
    " 0.3721374912574059,\n",
    " 0.37750771819220597,\n",
    " 0.3796345390672693,\n",
    " 0.3817495110814814,\n",
    " 0.38016438515772494,\n",
    " 0.37643980171551994,\n",
    " 0.375368847051209,\n",
    " 0.3796345390672693,\n",
    " 0.37750771819220597,\n",
    " 0.378040545159139,\n",
    " 0.37750771819220597,\n",
    " 0.3859446866161188,\n",
    " 0.3859446866161188,\n",
    " 0.3859446866161188,\n",
    " 0.3859446866161188,\n",
    " 0.3859446866161188,\n",
    " 0.38957840873686167,\n",
    " 0.3957300272007943,\n",
    " 0.39522104946321923,\n",
    " 0.3962383511447048,\n",
    " 0.3992747047523453,\n",
    " 0.40078425533405315,\n",
    " 0.3992747047523453,\n",
    " 0.39877025135476124,\n",
    " 0.3967460238079361,\n",
    " 0.3992747047523453,\n",
    " 0.39977852161491306,\n",
    " 0.4017874715601988,\n",
    " 0.4017874715601988,\n",
    " 0.3977594252641582,\n",
    " 0.39977852161491306,\n",
    " 0.3992747047523453,\n",
    " 0.39977852161491306,\n",
    " 0.39977852161491306,\n",
    " 0.4002817043459999,\n",
    " 0.40078425533405315,\n",
    " 0.40078425533405315,\n",
    " 0.4002817043459999,\n",
    " 0.40278818910415376,\n",
    " 0.40278818910415376,\n",
    " 0.40078425533405315,\n",
    " 0.40078425533405315,\n",
    " 0.40078425533405315,\n",
    " 0.3992747047523453,\n",
    " 0.3957300272007943,\n",
    " 0.3957300272007943,\n",
    " 0.3957300272007943,\n",
    " 0.3957300272007943,\n",
    " 0.3957300272007943]"
   ]
  },
  {
   "cell_type": "markdown",
   "metadata": {},
   "source": [
    "# RMSE vs K Vlaue"
   ]
  },
  {
   "cell_type": "code",
   "execution_count": 143,
   "metadata": {
    "collapsed": false
   },
   "outputs": [
    {
     "data": {
      "image/png": "[encoded data removed]",
      "text/plain": [
       "<matplotlib.figure.Figure at 0x218d5396b38>"
      ]
     },
     "metadata": {},
     "output_type": "display_data"
    }
   ],
   "source": [
    "plt.figure(figsize=(10,6))\n",
    "plt.plot(range(1,100),rmse_org,color='red',label='Previous')\n",
    "plt.plot(range(1,100),rmse,color='green',label='Proposed')\n",
    "plt.title('Rmse vs. K Value')\n",
    "plt.xlabel('K')\n",
    "plt.ylabel('Root mean absolute error')\n",
    "plt.legend()\n",
    "plt.show()"
   ]
  },
  {
   "cell_type": "code",
   "execution_count": 144,
   "metadata": {
    "collapsed": true
   },
   "outputs": [],
   "source": [
    "error_rate_org=[0.0056360708534621577,\n",
    " 0.0056360708534621577,\n",
    " 0.0056360708534621577,\n",
    " 0.006038647342995169,\n",
    " 0.0056360708534621577,\n",
    " 0.006038647342995169,\n",
    " 0.0056360708534621577,\n",
    " 0.006038647342995169,\n",
    " 0.0056360708534621577,\n",
    " 0.013285024154589372,\n",
    " 0.020933977455716585,\n",
    " 0.035024154589371984,\n",
    " 0.049114331723027378,\n",
    " 0.055152979066022546,\n",
    " 0.063204508856682773,\n",
    " 0.078904991948470213,\n",
    " 0.083735909822866342,\n",
    " 0.097826086956521743,\n",
    " 0.10829307568438003,\n",
    " 0.10628019323671498,\n",
    " 0.10628019323671498,\n",
    " 0.10144927536231885,\n",
    " 0.097826086956521743,\n",
    " 0.097826086956521743,\n",
    " 0.099838969404186795,\n",
    " 0.099838969404186795,\n",
    " 0.099838969404186795,\n",
    " 0.10305958132045089,\n",
    " 0.10386473429951691,\n",
    " 0.107085346215781,\n",
    " 0.10789049919484701,\n",
    " 0.10789049919484701,\n",
    " 0.11151368760064412,\n",
    " 0.11513687600644122,\n",
    " 0.11916264090177134,\n",
    " 0.12439613526570048,\n",
    " 0.12560386473429952,\n",
    " 0.12681159420289856,\n",
    " 0.12399355877616747,\n",
    " 0.12278582930756844,\n",
    " 0.12198067632850242,\n",
    " 0.12238325281803543,\n",
    " 0.12278582930756844,\n",
    " 0.12278582930756844,\n",
    " 0.12479871175523349,\n",
    " 0.1280193236714976,\n",
    " 0.12721417069243157,\n",
    " 0.12962962962962962,\n",
    " 0.12962962962962962,\n",
    " 0.13566827697262479,\n",
    " 0.13768115942028986,\n",
    " 0.14170692431561996,\n",
    " 0.14331723027375201,\n",
    " 0.14573268921095009,\n",
    " 0.14452495974235105,\n",
    " 0.14170692431561996,\n",
    " 0.14090177133655393,\n",
    " 0.1461352657004831,\n",
    " 0.14452495974235105,\n",
    " 0.14452495974235105,\n",
    " 0.14412238325281804,\n",
    " 0.15056360708534622,\n",
    " 0.15056360708534622,\n",
    " 0.15056360708534622,\n",
    " 0.15056360708534622,\n",
    " 0.15056360708534622,\n",
    " 0.15338164251207728,\n",
    " 0.15821256038647344,\n",
    " 0.15579710144927536,\n",
    " 0.15660225442834139,\n",
    " 0.15901771336553946,\n",
    " 0.16022544283413848,\n",
    " 0.15821256038647344,\n",
    " 0.15901771336553946,\n",
    " 0.15821256038647344,\n",
    " 0.16022544283413848,\n",
    " 0.16062801932367149,\n",
    " 0.16223832528180354,\n",
    " 0.16264090177133655,\n",
    " 0.15982286634460546,\n",
    " 0.1610305958132045,\n",
    " 0.1610305958132045,\n",
    " 0.16143317230273752,\n",
    " 0.16143317230273752,\n",
    " 0.16183574879227053,\n",
    " 0.16223832528180354,\n",
    " 0.16223832528180354,\n",
    " 0.16143317230273752,\n",
    " 0.16223832528180354,\n",
    " 0.16223832528180354,\n",
    " 0.16062801932367149,\n",
    " 0.15942028985507245,\n",
    " 0.15942028985507245,\n",
    " 0.15942028985507245,\n",
    " 0.15901771336553946,\n",
    " 0.15901771336553946,\n",
    " 0.15861513687600645,\n",
    " 0.15861513687600645,\n",
    " 0.15861513687600645]"
   ]
  },
  {
   "cell_type": "markdown",
   "metadata": {},
   "source": [
    "# Error Rate vs K Value"
   ]
  },
  {
   "cell_type": "code",
   "execution_count": 145,
   "metadata": {
    "collapsed": false
   },
   "outputs": [
    {
     "data": {
      "text/plain": [
       "<matplotlib.legend.Legend at 0x218d54823c8>"
      ]
     },
     "execution_count": 145,
     "metadata": {},
     "output_type": "execute_result"
    },
    {
     "data": {
      "image/png": "[encoded data removed]",
      "text/plain": [
       "<matplotlib.figure.Figure at 0x218d4f8ee80>"
      ]
     },
     "metadata": {},
     "output_type": "display_data"
    }
   ],
   "source": [
    "plt.figure(figsize=(10,6))\n",
    "\n",
    "plt.plot(range(1,100),error_rate_org,color='orange', linestyle='dashed', marker='o',\n",
    "         markerfacecolor='yellow', markersize=4,label='Previous')\n",
    "plt.plot(range(1,100),error_rate,color='green', linestyle='dashed', marker='o',\n",
    "         markerfacecolor='teal', markersize=4,label='Proposed')\n",
    "plt.title('Error Rate vs. K Value')\n",
    "plt.xlabel('K')\n",
    "plt.ylabel('Error Rate')\n",
    "plt.legend()"
   ]
  }
 ],
 "metadata": {
  "kernelspec": {
   "display_name": "Python 3",
   "language": "python",
   "name": "python3"
  },
  "language_info": {
   "codemirror_mode": {
    "name": "ipython",
    "version": 3
   },
   "file_extension": ".py",
   "mimetype": "text/x-python",
   "name": "python",
   "nbconvert_exporter": "python",
   "pygments_lexer": "ipython3",
   "version": "3.6.0"
  }
 },
 "nbformat": 4,
 "nbformat_minor": 2
}
